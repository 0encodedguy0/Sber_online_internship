{
 "cells": [
  {
   "cell_type": "code",
   "execution_count": 1,
   "metadata": {},
   "outputs": [],
   "source": [
    "import zipfile\n",
    "with zipfile.ZipFile('data_funds.zip', 'r') as zip_ref:\n",
    "    zip_ref.extractall()"
   ]
  },
  {
   "cell_type": "code",
   "execution_count": 59,
   "metadata": {},
   "outputs": [
    {
     "name": "stdout",
     "output_type": "stream",
     "text": [
      "Requirement already satisfied: datetime in c:\\users\\msi\\anaconda3\\lib\\site-packages (5.0)\n",
      "Requirement already satisfied: pytz in c:\\users\\msi\\anaconda3\\lib\\site-packages (from datetime) (2020.1)\n",
      "Requirement already satisfied: zope.interface in c:\\users\\msi\\anaconda3\\lib\\site-packages (from datetime) (5.1.2)\n",
      "Requirement already satisfied: setuptools in c:\\users\\msi\\anaconda3\\lib\\site-packages (from zope.interface->datetime) (50.3.1.post20201107)\n"
     ]
    },
    {
     "name": "stderr",
     "output_type": "stream",
     "text": [
      "\n",
      "[notice] A new release of pip available: 22.3.1 -> 23.0\n",
      "[notice] To update, run: python.exe -m pip install --upgrade pip\n"
     ]
    }
   ],
   "source": [
    "!pip install datetime\n",
    "import pandas as pd\n",
    "import numpy as np\n",
    "import matplotlib.pyplot as plt\n",
    "import datetime as datetime\n",
    "from dateutil.relativedelta import relativedelta"
   ]
  },
  {
   "cell_type": "code",
   "execution_count": 5,
   "metadata": {},
   "outputs": [],
   "source": [
    "data = pd.read_csv('data_funds.csv', sep=';')"
   ]
  },
  {
   "cell_type": "code",
   "execution_count": 6,
   "metadata": {},
   "outputs": [
    {
     "data": {
      "text/html": [
       "<div>\n",
       "<style scoped>\n",
       "    .dataframe tbody tr th:only-of-type {\n",
       "        vertical-align: middle;\n",
       "    }\n",
       "\n",
       "    .dataframe tbody tr th {\n",
       "        vertical-align: top;\n",
       "    }\n",
       "\n",
       "    .dataframe thead th {\n",
       "        text-align: right;\n",
       "    }\n",
       "</style>\n",
       "<table border=\"1\" class=\"dataframe\">\n",
       "  <thead>\n",
       "    <tr style=\"text-align: right;\">\n",
       "      <th></th>\n",
       "      <th>REPORTDATE</th>\n",
       "      <th>VALUE</th>\n",
       "    </tr>\n",
       "  </thead>\n",
       "  <tbody>\n",
       "    <tr>\n",
       "      <th>0</th>\n",
       "      <td>30.12.2013</td>\n",
       "      <td>3457625638</td>\n",
       "    </tr>\n",
       "    <tr>\n",
       "      <th>1</th>\n",
       "      <td>31.12.2013</td>\n",
       "      <td>3417092149</td>\n",
       "    </tr>\n",
       "    <tr>\n",
       "      <th>2</th>\n",
       "      <td>01.01.2014</td>\n",
       "      <td>3417092149</td>\n",
       "    </tr>\n",
       "    <tr>\n",
       "      <th>3</th>\n",
       "      <td>02.01.2014</td>\n",
       "      <td>3417092149</td>\n",
       "    </tr>\n",
       "    <tr>\n",
       "      <th>4</th>\n",
       "      <td>03.01.2014</td>\n",
       "      <td>3417092149</td>\n",
       "    </tr>\n",
       "  </tbody>\n",
       "</table>\n",
       "</div>"
      ],
      "text/plain": [
       "   REPORTDATE       VALUE\n",
       "0  30.12.2013  3457625638\n",
       "1  31.12.2013  3417092149\n",
       "2  01.01.2014  3417092149\n",
       "3  02.01.2014  3417092149\n",
       "4  03.01.2014  3417092149"
      ]
     },
     "execution_count": 6,
     "metadata": {},
     "output_type": "execute_result"
    }
   ],
   "source": [
    "data.head()"
   ]
  },
  {
   "cell_type": "code",
   "execution_count": 7,
   "metadata": {},
   "outputs": [],
   "source": [
    "data['REPORTDATE'] = pd.to_datetime(data['REPORTDATE'])"
   ]
  },
  {
   "cell_type": "code",
   "execution_count": 9,
   "metadata": {},
   "outputs": [
    {
     "data": {
      "text/html": [
       "<div>\n",
       "<style scoped>\n",
       "    .dataframe tbody tr th:only-of-type {\n",
       "        vertical-align: middle;\n",
       "    }\n",
       "\n",
       "    .dataframe tbody tr th {\n",
       "        vertical-align: top;\n",
       "    }\n",
       "\n",
       "    .dataframe thead th {\n",
       "        text-align: right;\n",
       "    }\n",
       "</style>\n",
       "<table border=\"1\" class=\"dataframe\">\n",
       "  <thead>\n",
       "    <tr style=\"text-align: right;\">\n",
       "      <th></th>\n",
       "      <th>REPORTDATE</th>\n",
       "      <th>VALUE</th>\n",
       "    </tr>\n",
       "  </thead>\n",
       "  <tbody>\n",
       "    <tr>\n",
       "      <th>0</th>\n",
       "      <td>2013-12-30</td>\n",
       "      <td>3457625638</td>\n",
       "    </tr>\n",
       "    <tr>\n",
       "      <th>1</th>\n",
       "      <td>2013-12-31</td>\n",
       "      <td>3417092149</td>\n",
       "    </tr>\n",
       "    <tr>\n",
       "      <th>2</th>\n",
       "      <td>2014-01-01</td>\n",
       "      <td>3417092149</td>\n",
       "    </tr>\n",
       "    <tr>\n",
       "      <th>3</th>\n",
       "      <td>2014-02-01</td>\n",
       "      <td>3417092149</td>\n",
       "    </tr>\n",
       "    <tr>\n",
       "      <th>4</th>\n",
       "      <td>2014-03-01</td>\n",
       "      <td>3417092149</td>\n",
       "    </tr>\n",
       "  </tbody>\n",
       "</table>\n",
       "</div>"
      ],
      "text/plain": [
       "  REPORTDATE       VALUE\n",
       "0 2013-12-30  3457625638\n",
       "1 2013-12-31  3417092149\n",
       "2 2014-01-01  3417092149\n",
       "3 2014-02-01  3417092149\n",
       "4 2014-03-01  3417092149"
      ]
     },
     "execution_count": 9,
     "metadata": {},
     "output_type": "execute_result"
    }
   ],
   "source": [
    "data.head()"
   ]
  },
  {
   "cell_type": "code",
   "execution_count": 10,
   "metadata": {},
   "outputs": [
    {
     "data": {
      "text/plain": [
       "(2111, 2)"
      ]
     },
     "execution_count": 10,
     "metadata": {},
     "output_type": "execute_result"
    }
   ],
   "source": [
    "data.shape"
   ]
  },
  {
   "cell_type": "code",
   "execution_count": 14,
   "metadata": {},
   "outputs": [
    {
     "data": {
      "text/plain": [
       "REPORTDATE    0\n",
       "VALUE         0\n",
       "dtype: int64"
      ]
     },
     "execution_count": 14,
     "metadata": {},
     "output_type": "execute_result"
    }
   ],
   "source": [
    "data.isnull().sum()"
   ]
  },
  {
   "cell_type": "code",
   "execution_count": 12,
   "metadata": {},
   "outputs": [
    {
     "name": "stderr",
     "output_type": "stream",
     "text": [
      "<ipython-input-12-589a52936347>:1: FutureWarning: Treating datetime data as categorical rather than numeric in `.describe` is deprecated and will be removed in a future version of pandas. Specify `datetime_is_numeric=True` to silence this warning and adopt the future behavior now.\n",
      "  data.describe(include='all')\n"
     ]
    },
    {
     "data": {
      "text/html": [
       "<div>\n",
       "<style scoped>\n",
       "    .dataframe tbody tr th:only-of-type {\n",
       "        vertical-align: middle;\n",
       "    }\n",
       "\n",
       "    .dataframe tbody tr th {\n",
       "        vertical-align: top;\n",
       "    }\n",
       "\n",
       "    .dataframe thead th {\n",
       "        text-align: right;\n",
       "    }\n",
       "</style>\n",
       "<table border=\"1\" class=\"dataframe\">\n",
       "  <thead>\n",
       "    <tr style=\"text-align: right;\">\n",
       "      <th></th>\n",
       "      <th>REPORTDATE</th>\n",
       "      <th>VALUE</th>\n",
       "    </tr>\n",
       "  </thead>\n",
       "  <tbody>\n",
       "    <tr>\n",
       "      <th>count</th>\n",
       "      <td>2111</td>\n",
       "      <td>2.111000e+03</td>\n",
       "    </tr>\n",
       "    <tr>\n",
       "      <th>unique</th>\n",
       "      <td>2111</td>\n",
       "      <td>NaN</td>\n",
       "    </tr>\n",
       "    <tr>\n",
       "      <th>top</th>\n",
       "      <td>2016-11-14 00:00:00</td>\n",
       "      <td>NaN</td>\n",
       "    </tr>\n",
       "    <tr>\n",
       "      <th>freq</th>\n",
       "      <td>1</td>\n",
       "      <td>NaN</td>\n",
       "    </tr>\n",
       "    <tr>\n",
       "      <th>first</th>\n",
       "      <td>2013-12-30 00:00:00</td>\n",
       "      <td>NaN</td>\n",
       "    </tr>\n",
       "    <tr>\n",
       "      <th>last</th>\n",
       "      <td>2019-12-09 00:00:00</td>\n",
       "      <td>NaN</td>\n",
       "    </tr>\n",
       "    <tr>\n",
       "      <th>mean</th>\n",
       "      <td>NaN</td>\n",
       "      <td>3.389668e+10</td>\n",
       "    </tr>\n",
       "    <tr>\n",
       "      <th>std</th>\n",
       "      <td>NaN</td>\n",
       "      <td>1.875474e+10</td>\n",
       "    </tr>\n",
       "    <tr>\n",
       "      <th>min</th>\n",
       "      <td>NaN</td>\n",
       "      <td>3.282810e+09</td>\n",
       "    </tr>\n",
       "    <tr>\n",
       "      <th>25%</th>\n",
       "      <td>NaN</td>\n",
       "      <td>1.824160e+10</td>\n",
       "    </tr>\n",
       "    <tr>\n",
       "      <th>50%</th>\n",
       "      <td>NaN</td>\n",
       "      <td>3.021352e+10</td>\n",
       "    </tr>\n",
       "    <tr>\n",
       "      <th>75%</th>\n",
       "      <td>NaN</td>\n",
       "      <td>4.758339e+10</td>\n",
       "    </tr>\n",
       "    <tr>\n",
       "      <th>max</th>\n",
       "      <td>NaN</td>\n",
       "      <td>7.822860e+10</td>\n",
       "    </tr>\n",
       "  </tbody>\n",
       "</table>\n",
       "</div>"
      ],
      "text/plain": [
       "                 REPORTDATE         VALUE\n",
       "count                  2111  2.111000e+03\n",
       "unique                 2111           NaN\n",
       "top     2016-11-14 00:00:00           NaN\n",
       "freq                      1           NaN\n",
       "first   2013-12-30 00:00:00           NaN\n",
       "last    2019-12-09 00:00:00           NaN\n",
       "mean                    NaN  3.389668e+10\n",
       "std                     NaN  1.875474e+10\n",
       "min                     NaN  3.282810e+09\n",
       "25%                     NaN  1.824160e+10\n",
       "50%                     NaN  3.021352e+10\n",
       "75%                     NaN  4.758339e+10\n",
       "max                     NaN  7.822860e+10"
      ]
     },
     "execution_count": 12,
     "metadata": {},
     "output_type": "execute_result"
    }
   ],
   "source": [
    "data.describe(include='all')"
   ]
  },
  {
   "cell_type": "markdown",
   "metadata": {},
   "source": [
    "## Для наглядности представим распределение данных в виде boxplot"
   ]
  },
  {
   "cell_type": "code",
   "execution_count": 19,
   "metadata": {},
   "outputs": [
    {
     "data": {
      "text/plain": [
       "<AxesSubplot:>"
      ]
     },
     "execution_count": 19,
     "metadata": {},
     "output_type": "execute_result"
    },
    {
     "data": {
      "image/png": "[encoded data removed]",
      "text/plain": [
       "<Figure size 432x288 with 1 Axes>"
      ]
     },
     "metadata": {
      "needs_background": "light"
     },
     "output_type": "display_data"
    }
   ],
   "source": [
    "data.boxplot(column='VALUE')"
   ]
  },
  {
   "cell_type": "markdown",
   "metadata": {},
   "source": [
    "### Исходя из сути задания, нам надо прогнозировать значения на разных интервалах времени. Для этого можно использовать библиотеку Prophet"
   ]
  },
  {
   "cell_type": "code",
   "execution_count": 20,
   "metadata": {},
   "outputs": [
    {
     "name": "stderr",
     "output_type": "stream",
     "text": [
      "\n",
      "[notice] A new release of pip available: 22.3.1 -> 23.0\n",
      "[notice] To update, run: python.exe -m pip install --upgrade pip\n"
     ]
    },
    {
     "name": "stdout",
     "output_type": "stream",
     "text": [
      "Collecting prophet\n",
      "  Downloading prophet-1.1.2-py3-none-win_amd64.whl (12.1 MB)\n",
      "     ---------------------------------------- 12.1/12.1 MB 4.6 MB/s eta 0:00:00\n",
      "Collecting convertdate>=2.1.2\n",
      "  Downloading convertdate-2.4.0-py3-none-any.whl (47 kB)\n",
      "     -------------------------------------- 47.9/47.9 kB 201.5 kB/s eta 0:00:00\n",
      "Collecting cmdstanpy>=1.0.4\n",
      "  Downloading cmdstanpy-1.1.0-py3-none-any.whl (83 kB)\n",
      "     ---------------------------------------- 83.2/83.2 kB 1.6 MB/s eta 0:00:00\n",
      "Requirement already satisfied: tqdm>=4.36.1 in c:\\users\\msi\\anaconda3\\lib\\site-packages (from prophet) (4.50.2)\n",
      "Collecting LunarCalendar>=0.0.9\n",
      "  Downloading LunarCalendar-0.0.9-py2.py3-none-any.whl (18 kB)\n",
      "Requirement already satisfied: pandas>=1.0.4 in c:\\users\\msi\\anaconda3\\lib\\site-packages (from prophet) (1.1.3)\n",
      "Requirement already satisfied: matplotlib>=2.0.0 in c:\\users\\msi\\anaconda3\\lib\\site-packages (from prophet) (3.3.2)\n",
      "Requirement already satisfied: numpy>=1.15.4 in c:\\users\\msi\\anaconda3\\lib\\site-packages (from prophet) (1.23.5)\n",
      "Collecting holidays>=0.14.2\n",
      "  Downloading holidays-0.19-py3-none-any.whl (208 kB)\n",
      "     -------------------------------------- 208.5/208.5 kB 3.1 MB/s eta 0:00:00\n",
      "Requirement already satisfied: python-dateutil>=2.8.0 in c:\\users\\msi\\anaconda3\\lib\\site-packages (from prophet) (2.8.1)\n",
      "Collecting pymeeus<=1,>=0.3.13\n",
      "  Downloading PyMeeus-0.5.12.tar.gz (5.8 MB)\n",
      "     ---------------------------------------- 5.8/5.8 MB 4.6 MB/s eta 0:00:00\n",
      "  Preparing metadata (setup.py): started\n",
      "  Preparing metadata (setup.py): finished with status 'done'\n",
      "Collecting korean-lunar-calendar\n",
      "  Downloading korean_lunar_calendar-0.3.1-py3-none-any.whl (9.0 kB)\n",
      "Collecting hijri-converter\n",
      "  Downloading hijri_converter-2.2.4-py3-none-any.whl (14 kB)\n",
      "Collecting ephem>=3.7.5.3\n",
      "  Downloading ephem-4.1.4-cp38-cp38-win_amd64.whl (1.4 MB)\n",
      "     ---------------------------------------- 1.4/1.4 MB 6.5 MB/s eta 0:00:00\n",
      "Requirement already satisfied: pytz in c:\\users\\msi\\anaconda3\\lib\\site-packages (from LunarCalendar>=0.0.9->prophet) (2020.1)\n",
      "Requirement already satisfied: pillow>=6.2.0 in c:\\users\\msi\\anaconda3\\lib\\site-packages (from matplotlib>=2.0.0->prophet) (8.0.1)\n",
      "Requirement already satisfied: cycler>=0.10 in c:\\users\\msi\\anaconda3\\lib\\site-packages (from matplotlib>=2.0.0->prophet) (0.10.0)\n",
      "Requirement already satisfied: kiwisolver>=1.0.1 in c:\\users\\msi\\anaconda3\\lib\\site-packages (from matplotlib>=2.0.0->prophet) (1.3.0)\n",
      "Requirement already satisfied: pyparsing!=2.0.4,!=2.1.2,!=2.1.6,>=2.0.3 in c:\\users\\msi\\anaconda3\\lib\\site-packages (from matplotlib>=2.0.0->prophet) (2.4.7)\n",
      "Requirement already satisfied: certifi>=2020.06.20 in c:\\users\\msi\\anaconda3\\lib\\site-packages (from matplotlib>=2.0.0->prophet) (2020.6.20)\n",
      "Requirement already satisfied: six>=1.5 in c:\\users\\msi\\anaconda3\\lib\\site-packages (from python-dateutil>=2.8.0->prophet) (1.15.0)\n",
      "Building wheels for collected packages: pymeeus\n",
      "  Building wheel for pymeeus (setup.py): started\n",
      "  Building wheel for pymeeus (setup.py): finished with status 'done'\n",
      "  Created wheel for pymeeus: filename=PyMeeus-0.5.12-py3-none-any.whl size=732006 sha256=dd99ec7f2b1e8debd80ca7a9463ebbdc9c4ca762a0ca631650806546cee11ee1\n",
      "  Stored in directory: c:\\users\\msi\\appdata\\local\\pip\\cache\\wheels\\b9\\49\\19\\1ec4bcf2cc7640c6ee7815d9c02d06eaab89148fcd20e218c5\n",
      "Successfully built pymeeus\n",
      "Installing collected packages: pymeeus, korean-lunar-calendar, ephem, hijri-converter, convertdate, LunarCalendar, holidays, cmdstanpy, prophet\n",
      "Successfully installed LunarCalendar-0.0.9 cmdstanpy-1.1.0 convertdate-2.4.0 ephem-4.1.4 hijri-converter-2.2.4 holidays-0.19 korean-lunar-calendar-0.3.1 prophet-1.1.2 pymeeus-0.5.12\n"
     ]
    }
   ],
   "source": [
    "!pip install prophet\n",
    "from prophet import Prophet\n",
    "from sklearn.metrics import mean_absolute_error # Выбираем MAE, т.к. MSE сильно штрафует за большие отклонения"
   ]
  },
  {
   "cell_type": "code",
   "execution_count": 22,
   "metadata": {},
   "outputs": [],
   "source": [
    "data = data.rename(columns = {'REPORTDATE' : 'ds', 'VALUE': 'y'})  # необходимо из-за особенностей модели (при обучении данные строго называются ds и y)"
   ]
  },
  {
   "cell_type": "code",
   "execution_count": 28,
   "metadata": {},
   "outputs": [
    {
     "name": "stderr",
     "output_type": "stream",
     "text": [
      "18:10:06 - cmdstanpy - INFO - Chain [1] start processing\n",
      "18:10:06 - cmdstanpy - INFO - Chain [1] done processing\n"
     ]
    }
   ],
   "source": [
    "model = Prophet()\n",
    "model.fit(data)\n",
    "ft = model.make_future_dataframe(periods=365)\n",
    "preds = model.predict(ft)"
   ]
  },
  {
   "cell_type": "code",
   "execution_count": 29,
   "metadata": {},
   "outputs": [
    {
     "data": {
      "text/html": [
       "<div>\n",
       "<style scoped>\n",
       "    .dataframe tbody tr th:only-of-type {\n",
       "        vertical-align: middle;\n",
       "    }\n",
       "\n",
       "    .dataframe tbody tr th {\n",
       "        vertical-align: top;\n",
       "    }\n",
       "\n",
       "    .dataframe thead th {\n",
       "        text-align: right;\n",
       "    }\n",
       "</style>\n",
       "<table border=\"1\" class=\"dataframe\">\n",
       "  <thead>\n",
       "    <tr style=\"text-align: right;\">\n",
       "      <th></th>\n",
       "      <th>ds</th>\n",
       "      <th>trend</th>\n",
       "      <th>yhat_lower</th>\n",
       "      <th>yhat_upper</th>\n",
       "      <th>trend_lower</th>\n",
       "      <th>trend_upper</th>\n",
       "      <th>additive_terms</th>\n",
       "      <th>additive_terms_lower</th>\n",
       "      <th>additive_terms_upper</th>\n",
       "      <th>weekly</th>\n",
       "      <th>weekly_lower</th>\n",
       "      <th>weekly_upper</th>\n",
       "      <th>yearly</th>\n",
       "      <th>yearly_lower</th>\n",
       "      <th>yearly_upper</th>\n",
       "      <th>multiplicative_terms</th>\n",
       "      <th>multiplicative_terms_lower</th>\n",
       "      <th>multiplicative_terms_upper</th>\n",
       "      <th>yhat</th>\n",
       "    </tr>\n",
       "  </thead>\n",
       "  <tbody>\n",
       "    <tr>\n",
       "      <th>0</th>\n",
       "      <td>2013-12-30</td>\n",
       "      <td>6.486841e+09</td>\n",
       "      <td>5.540314e+09</td>\n",
       "      <td>1.551463e+10</td>\n",
       "      <td>6.486841e+09</td>\n",
       "      <td>6.486841e+09</td>\n",
       "      <td>3.804262e+09</td>\n",
       "      <td>3.804262e+09</td>\n",
       "      <td>3.804262e+09</td>\n",
       "      <td>-2.670934e+08</td>\n",
       "      <td>-2.670934e+08</td>\n",
       "      <td>-2.670934e+08</td>\n",
       "      <td>4.071355e+09</td>\n",
       "      <td>4.071355e+09</td>\n",
       "      <td>4.071355e+09</td>\n",
       "      <td>0.0</td>\n",
       "      <td>0.0</td>\n",
       "      <td>0.0</td>\n",
       "      <td>1.029110e+10</td>\n",
       "    </tr>\n",
       "    <tr>\n",
       "      <th>1</th>\n",
       "      <td>2013-12-31</td>\n",
       "      <td>6.529615e+09</td>\n",
       "      <td>5.585632e+09</td>\n",
       "      <td>1.579775e+10</td>\n",
       "      <td>6.529615e+09</td>\n",
       "      <td>6.529615e+09</td>\n",
       "      <td>3.709058e+09</td>\n",
       "      <td>3.709058e+09</td>\n",
       "      <td>3.709058e+09</td>\n",
       "      <td>-2.741330e+08</td>\n",
       "      <td>-2.741330e+08</td>\n",
       "      <td>-2.741330e+08</td>\n",
       "      <td>3.983191e+09</td>\n",
       "      <td>3.983191e+09</td>\n",
       "      <td>3.983191e+09</td>\n",
       "      <td>0.0</td>\n",
       "      <td>0.0</td>\n",
       "      <td>0.0</td>\n",
       "      <td>1.023867e+10</td>\n",
       "    </tr>\n",
       "    <tr>\n",
       "      <th>2</th>\n",
       "      <td>2014-01-01</td>\n",
       "      <td>6.572390e+09</td>\n",
       "      <td>4.879067e+09</td>\n",
       "      <td>1.551391e+10</td>\n",
       "      <td>6.572390e+09</td>\n",
       "      <td>6.572390e+09</td>\n",
       "      <td>3.732940e+09</td>\n",
       "      <td>3.732940e+09</td>\n",
       "      <td>3.732940e+09</td>\n",
       "      <td>-1.248304e+08</td>\n",
       "      <td>-1.248304e+08</td>\n",
       "      <td>-1.248304e+08</td>\n",
       "      <td>3.857771e+09</td>\n",
       "      <td>3.857771e+09</td>\n",
       "      <td>3.857771e+09</td>\n",
       "      <td>0.0</td>\n",
       "      <td>0.0</td>\n",
       "      <td>0.0</td>\n",
       "      <td>1.030533e+10</td>\n",
       "    </tr>\n",
       "    <tr>\n",
       "      <th>3</th>\n",
       "      <td>2014-01-02</td>\n",
       "      <td>6.615165e+09</td>\n",
       "      <td>5.514765e+09</td>\n",
       "      <td>1.522010e+10</td>\n",
       "      <td>6.615165e+09</td>\n",
       "      <td>6.615165e+09</td>\n",
       "      <td>3.696452e+09</td>\n",
       "      <td>3.696452e+09</td>\n",
       "      <td>3.696452e+09</td>\n",
       "      <td>-1.641791e+06</td>\n",
       "      <td>-1.641791e+06</td>\n",
       "      <td>-1.641791e+06</td>\n",
       "      <td>3.698094e+09</td>\n",
       "      <td>3.698094e+09</td>\n",
       "      <td>3.698094e+09</td>\n",
       "      <td>0.0</td>\n",
       "      <td>0.0</td>\n",
       "      <td>0.0</td>\n",
       "      <td>1.031162e+10</td>\n",
       "    </tr>\n",
       "    <tr>\n",
       "      <th>4</th>\n",
       "      <td>2014-01-03</td>\n",
       "      <td>6.657940e+09</td>\n",
       "      <td>5.330306e+09</td>\n",
       "      <td>1.550640e+10</td>\n",
       "      <td>6.657940e+09</td>\n",
       "      <td>6.657940e+09</td>\n",
       "      <td>3.515932e+09</td>\n",
       "      <td>3.515932e+09</td>\n",
       "      <td>3.515932e+09</td>\n",
       "      <td>8.245801e+06</td>\n",
       "      <td>8.245801e+06</td>\n",
       "      <td>8.245801e+06</td>\n",
       "      <td>3.507686e+09</td>\n",
       "      <td>3.507686e+09</td>\n",
       "      <td>3.507686e+09</td>\n",
       "      <td>0.0</td>\n",
       "      <td>0.0</td>\n",
       "      <td>0.0</td>\n",
       "      <td>1.017387e+10</td>\n",
       "    </tr>\n",
       "    <tr>\n",
       "      <th>...</th>\n",
       "      <td>...</td>\n",
       "      <td>...</td>\n",
       "      <td>...</td>\n",
       "      <td>...</td>\n",
       "      <td>...</td>\n",
       "      <td>...</td>\n",
       "      <td>...</td>\n",
       "      <td>...</td>\n",
       "      <td>...</td>\n",
       "      <td>...</td>\n",
       "      <td>...</td>\n",
       "      <td>...</td>\n",
       "      <td>...</td>\n",
       "      <td>...</td>\n",
       "      <td>...</td>\n",
       "      <td>...</td>\n",
       "      <td>...</td>\n",
       "      <td>...</td>\n",
       "      <td>...</td>\n",
       "    </tr>\n",
       "    <tr>\n",
       "      <th>2471</th>\n",
       "      <td>2020-12-04</td>\n",
       "      <td>9.098390e+10</td>\n",
       "      <td>8.324226e+10</td>\n",
       "      <td>9.533231e+10</td>\n",
       "      <td>8.841032e+10</td>\n",
       "      <td>9.343063e+10</td>\n",
       "      <td>-1.838667e+09</td>\n",
       "      <td>-1.838667e+09</td>\n",
       "      <td>-1.838667e+09</td>\n",
       "      <td>8.245801e+06</td>\n",
       "      <td>8.245801e+06</td>\n",
       "      <td>8.245801e+06</td>\n",
       "      <td>-1.846913e+09</td>\n",
       "      <td>-1.846913e+09</td>\n",
       "      <td>-1.846913e+09</td>\n",
       "      <td>0.0</td>\n",
       "      <td>0.0</td>\n",
       "      <td>0.0</td>\n",
       "      <td>8.914523e+10</td>\n",
       "    </tr>\n",
       "    <tr>\n",
       "      <th>2472</th>\n",
       "      <td>2020-12-05</td>\n",
       "      <td>9.102943e+10</td>\n",
       "      <td>8.370919e+10</td>\n",
       "      <td>9.475262e+10</td>\n",
       "      <td>8.845028e+10</td>\n",
       "      <td>9.348229e+10</td>\n",
       "      <td>-1.521160e+09</td>\n",
       "      <td>-1.521160e+09</td>\n",
       "      <td>-1.521160e+09</td>\n",
       "      <td>2.130136e+08</td>\n",
       "      <td>2.130136e+08</td>\n",
       "      <td>2.130136e+08</td>\n",
       "      <td>-1.734174e+09</td>\n",
       "      <td>-1.734174e+09</td>\n",
       "      <td>-1.734174e+09</td>\n",
       "      <td>0.0</td>\n",
       "      <td>0.0</td>\n",
       "      <td>0.0</td>\n",
       "      <td>8.950827e+10</td>\n",
       "    </tr>\n",
       "    <tr>\n",
       "      <th>2473</th>\n",
       "      <td>2020-12-06</td>\n",
       "      <td>9.107496e+10</td>\n",
       "      <td>8.366334e+10</td>\n",
       "      <td>9.545791e+10</td>\n",
       "      <td>8.848455e+10</td>\n",
       "      <td>9.353394e+10</td>\n",
       "      <td>-1.138286e+09</td>\n",
       "      <td>-1.138286e+09</td>\n",
       "      <td>-1.138286e+09</td>\n",
       "      <td>4.464393e+08</td>\n",
       "      <td>4.464393e+08</td>\n",
       "      <td>4.464393e+08</td>\n",
       "      <td>-1.584725e+09</td>\n",
       "      <td>-1.584725e+09</td>\n",
       "      <td>-1.584725e+09</td>\n",
       "      <td>0.0</td>\n",
       "      <td>0.0</td>\n",
       "      <td>0.0</td>\n",
       "      <td>8.993667e+10</td>\n",
       "    </tr>\n",
       "    <tr>\n",
       "      <th>2474</th>\n",
       "      <td>2020-12-07</td>\n",
       "      <td>9.112049e+10</td>\n",
       "      <td>8.398217e+10</td>\n",
       "      <td>9.487909e+10</td>\n",
       "      <td>8.851883e+10</td>\n",
       "      <td>9.358560e+10</td>\n",
       "      <td>-1.666330e+09</td>\n",
       "      <td>-1.666330e+09</td>\n",
       "      <td>-1.666330e+09</td>\n",
       "      <td>-2.670934e+08</td>\n",
       "      <td>-2.670934e+08</td>\n",
       "      <td>-2.670934e+08</td>\n",
       "      <td>-1.399237e+09</td>\n",
       "      <td>-1.399237e+09</td>\n",
       "      <td>-1.399237e+09</td>\n",
       "      <td>0.0</td>\n",
       "      <td>0.0</td>\n",
       "      <td>0.0</td>\n",
       "      <td>8.945416e+10</td>\n",
       "    </tr>\n",
       "    <tr>\n",
       "      <th>2475</th>\n",
       "      <td>2020-12-08</td>\n",
       "      <td>9.116602e+10</td>\n",
       "      <td>8.344619e+10</td>\n",
       "      <td>9.549734e+10</td>\n",
       "      <td>8.855310e+10</td>\n",
       "      <td>9.363725e+10</td>\n",
       "      <td>-1.453273e+09</td>\n",
       "      <td>-1.453273e+09</td>\n",
       "      <td>-1.453273e+09</td>\n",
       "      <td>-2.741330e+08</td>\n",
       "      <td>-2.741330e+08</td>\n",
       "      <td>-2.741330e+08</td>\n",
       "      <td>-1.179140e+09</td>\n",
       "      <td>-1.179140e+09</td>\n",
       "      <td>-1.179140e+09</td>\n",
       "      <td>0.0</td>\n",
       "      <td>0.0</td>\n",
       "      <td>0.0</td>\n",
       "      <td>8.971275e+10</td>\n",
       "    </tr>\n",
       "  </tbody>\n",
       "</table>\n",
       "<p>2476 rows × 19 columns</p>\n",
       "</div>"
      ],
      "text/plain": [
       "             ds         trend    yhat_lower    yhat_upper   trend_lower  \\\n",
       "0    2013-12-30  6.486841e+09  5.540314e+09  1.551463e+10  6.486841e+09   \n",
       "1    2013-12-31  6.529615e+09  5.585632e+09  1.579775e+10  6.529615e+09   \n",
       "2    2014-01-01  6.572390e+09  4.879067e+09  1.551391e+10  6.572390e+09   \n",
       "3    2014-01-02  6.615165e+09  5.514765e+09  1.522010e+10  6.615165e+09   \n",
       "4    2014-01-03  6.657940e+09  5.330306e+09  1.550640e+10  6.657940e+09   \n",
       "...         ...           ...           ...           ...           ...   \n",
       "2471 2020-12-04  9.098390e+10  8.324226e+10  9.533231e+10  8.841032e+10   \n",
       "2472 2020-12-05  9.102943e+10  8.370919e+10  9.475262e+10  8.845028e+10   \n",
       "2473 2020-12-06  9.107496e+10  8.366334e+10  9.545791e+10  8.848455e+10   \n",
       "2474 2020-12-07  9.112049e+10  8.398217e+10  9.487909e+10  8.851883e+10   \n",
       "2475 2020-12-08  9.116602e+10  8.344619e+10  9.549734e+10  8.855310e+10   \n",
       "\n",
       "       trend_upper  additive_terms  additive_terms_lower  \\\n",
       "0     6.486841e+09    3.804262e+09          3.804262e+09   \n",
       "1     6.529615e+09    3.709058e+09          3.709058e+09   \n",
       "2     6.572390e+09    3.732940e+09          3.732940e+09   \n",
       "3     6.615165e+09    3.696452e+09          3.696452e+09   \n",
       "4     6.657940e+09    3.515932e+09          3.515932e+09   \n",
       "...            ...             ...                   ...   \n",
       "2471  9.343063e+10   -1.838667e+09         -1.838667e+09   \n",
       "2472  9.348229e+10   -1.521160e+09         -1.521160e+09   \n",
       "2473  9.353394e+10   -1.138286e+09         -1.138286e+09   \n",
       "2474  9.358560e+10   -1.666330e+09         -1.666330e+09   \n",
       "2475  9.363725e+10   -1.453273e+09         -1.453273e+09   \n",
       "\n",
       "      additive_terms_upper        weekly  weekly_lower  weekly_upper  \\\n",
       "0             3.804262e+09 -2.670934e+08 -2.670934e+08 -2.670934e+08   \n",
       "1             3.709058e+09 -2.741330e+08 -2.741330e+08 -2.741330e+08   \n",
       "2             3.732940e+09 -1.248304e+08 -1.248304e+08 -1.248304e+08   \n",
       "3             3.696452e+09 -1.641791e+06 -1.641791e+06 -1.641791e+06   \n",
       "4             3.515932e+09  8.245801e+06  8.245801e+06  8.245801e+06   \n",
       "...                    ...           ...           ...           ...   \n",
       "2471         -1.838667e+09  8.245801e+06  8.245801e+06  8.245801e+06   \n",
       "2472         -1.521160e+09  2.130136e+08  2.130136e+08  2.130136e+08   \n",
       "2473         -1.138286e+09  4.464393e+08  4.464393e+08  4.464393e+08   \n",
       "2474         -1.666330e+09 -2.670934e+08 -2.670934e+08 -2.670934e+08   \n",
       "2475         -1.453273e+09 -2.741330e+08 -2.741330e+08 -2.741330e+08   \n",
       "\n",
       "            yearly  yearly_lower  yearly_upper  multiplicative_terms  \\\n",
       "0     4.071355e+09  4.071355e+09  4.071355e+09                   0.0   \n",
       "1     3.983191e+09  3.983191e+09  3.983191e+09                   0.0   \n",
       "2     3.857771e+09  3.857771e+09  3.857771e+09                   0.0   \n",
       "3     3.698094e+09  3.698094e+09  3.698094e+09                   0.0   \n",
       "4     3.507686e+09  3.507686e+09  3.507686e+09                   0.0   \n",
       "...            ...           ...           ...                   ...   \n",
       "2471 -1.846913e+09 -1.846913e+09 -1.846913e+09                   0.0   \n",
       "2472 -1.734174e+09 -1.734174e+09 -1.734174e+09                   0.0   \n",
       "2473 -1.584725e+09 -1.584725e+09 -1.584725e+09                   0.0   \n",
       "2474 -1.399237e+09 -1.399237e+09 -1.399237e+09                   0.0   \n",
       "2475 -1.179140e+09 -1.179140e+09 -1.179140e+09                   0.0   \n",
       "\n",
       "      multiplicative_terms_lower  multiplicative_terms_upper          yhat  \n",
       "0                            0.0                         0.0  1.029110e+10  \n",
       "1                            0.0                         0.0  1.023867e+10  \n",
       "2                            0.0                         0.0  1.030533e+10  \n",
       "3                            0.0                         0.0  1.031162e+10  \n",
       "4                            0.0                         0.0  1.017387e+10  \n",
       "...                          ...                         ...           ...  \n",
       "2471                         0.0                         0.0  8.914523e+10  \n",
       "2472                         0.0                         0.0  8.950827e+10  \n",
       "2473                         0.0                         0.0  8.993667e+10  \n",
       "2474                         0.0                         0.0  8.945416e+10  \n",
       "2475                         0.0                         0.0  8.971275e+10  \n",
       "\n",
       "[2476 rows x 19 columns]"
      ]
     },
     "execution_count": 29,
     "metadata": {},
     "output_type": "execute_result"
    }
   ],
   "source": [
    "preds"
   ]
  },
  {
   "cell_type": "code",
   "execution_count": 26,
   "metadata": {},
   "outputs": [
    {
     "name": "stdout",
     "output_type": "stream",
     "text": [
      "['T', '_AXIS_LEN', '_AXIS_NAMES', '_AXIS_NUMBERS', '_AXIS_ORDERS', '_AXIS_REVERSED', '_AXIS_TO_AXIS_NUMBER', '__abs__', '__add__', '__and__', '__annotations__', '__array__', '__array_priority__', '__array_wrap__', '__bool__', '__class__', '__contains__', '__copy__', '__deepcopy__', '__delattr__', '__delitem__', '__dict__', '__dir__', '__div__', '__doc__', '__eq__', '__finalize__', '__floordiv__', '__format__', '__ge__', '__getattr__', '__getattribute__', '__getitem__', '__getstate__', '__gt__', '__hash__', '__iadd__', '__iand__', '__ifloordiv__', '__imod__', '__imul__', '__init__', '__init_subclass__', '__invert__', '__ior__', '__ipow__', '__isub__', '__iter__', '__itruediv__', '__ixor__', '__le__', '__len__', '__lt__', '__matmul__', '__mod__', '__module__', '__mul__', '__ne__', '__neg__', '__new__', '__nonzero__', '__or__', '__pos__', '__pow__', '__radd__', '__rand__', '__rdiv__', '__reduce__', '__reduce_ex__', '__repr__', '__rfloordiv__', '__rmatmul__', '__rmod__', '__rmul__', '__ror__', '__round__', '__rpow__', '__rsub__', '__rtruediv__', '__rxor__', '__setattr__', '__setitem__', '__setstate__', '__sizeof__', '__str__', '__sub__', '__subclasshook__', '__truediv__', '__weakref__', '__xor__', '_accessors', '_add_numeric_operations', '_add_series_or_dataframe_operations', '_agg_by_level', '_agg_examples_doc', '_agg_summary_and_see_also_doc', '_aggregate', '_aggregate_multiple_funcs', '_align_frame', '_align_series', '_box_col_values', '_builtin_table', '_can_fast_transpose', '_check_inplace_setting', '_check_is_chained_assignment_possible', '_check_label_or_level_ambiguity', '_check_setitem_copy', '_clear_item_cache', '_clip_with_one_bound', '_clip_with_scalar', '_combine_frame', '_consolidate', '_consolidate_inplace', '_construct_axes_dict', '_construct_axes_from_arguments', '_construct_result', '_constructor', '_constructor_expanddim', '_constructor_sliced', '_convert', '_count_level', '_cython_table', '_data', '_deprecations', '_dir_additions', '_dir_deletions', '_drop_axis', '_drop_labels_or_levels', '_ensure_valid_index', '_find_valid_index', '_from_arrays', '_get_agg_axis', '_get_axis', '_get_axis_name', '_get_axis_number', '_get_axis_resolvers', '_get_block_manager_axis', '_get_bool_data', '_get_cacher', '_get_cleaned_column_resolvers', '_get_column_array', '_get_cython_func', '_get_index_resolvers', '_get_item_cache', '_get_label_or_level_values', '_get_numeric_data', '_get_value', '_getitem_bool_array', '_getitem_multilevel', '_gotitem', '_indexed_same', '_info_axis', '_info_axis_name', '_info_axis_number', '_info_repr', '_init_mgr', '_internal_names', '_internal_names_set', '_is_builtin_func', '_is_cached', '_is_copy', '_is_homogeneous_type', '_is_label_or_level_reference', '_is_label_reference', '_is_level_reference', '_is_mixed_type', '_is_view', '_iset_item', '_iter_column_arrays', '_ix', '_ixs', '_join_compat', '_maybe_cache_changed', '_maybe_update_cacher', '_metadata', '_needs_reindex_multi', '_obj_with_exclusions', '_protect_consolidate', '_reduce', '_reindex_axes', '_reindex_columns', '_reindex_index', '_reindex_multi', '_reindex_with_indexers', '_replace_columnwise', '_repr_data_resource_', '_repr_fits_horizontal_', '_repr_fits_vertical_', '_repr_html_', '_repr_latex_', '_reset_cache', '_reset_cacher', '_sanitize_column', '_selected_obj', '_selection', '_selection_list', '_selection_name', '_series', '_set_as_cached', '_set_axis', '_set_axis_name', '_set_is_copy', '_set_item', '_set_value', '_setitem_array', '_setitem_frame', '_setitem_slice', '_slice', '_stat_axis', '_stat_axis_name', '_stat_axis_number', '_take_with_is_copy', '_to_dict_of_blocks', '_try_aggregate_string_function', '_typ', '_update_inplace', '_validate_dtype', '_values', '_where', 'abs', 'add', 'add_prefix', 'add_suffix', 'additive_terms', 'additive_terms_lower', 'additive_terms_upper', 'agg', 'aggregate', 'align', 'all', 'any', 'append', 'apply', 'applymap', 'asfreq', 'asof', 'assign', 'astype', 'at', 'at_time', 'attrs', 'axes', 'backfill', 'between_time', 'bfill', 'bool', 'boxplot', 'clip', 'columns', 'combine', 'combine_first', 'compare', 'convert_dtypes', 'copy', 'corr', 'corrwith', 'count', 'cov', 'cummax', 'cummin', 'cumprod', 'cumsum', 'describe', 'diff', 'div', 'divide', 'dot', 'drop', 'drop_duplicates', 'droplevel', 'dropna', 'ds', 'dtypes', 'duplicated', 'empty', 'eq', 'equals', 'eval', 'ewm', 'expanding', 'explode', 'ffill', 'fillna', 'filter', 'first', 'first_valid_index', 'floordiv', 'from_dict', 'from_records', 'ge', 'get', 'groupby', 'gt', 'head', 'hist', 'iat', 'idxmax', 'idxmin', 'iloc', 'index', 'infer_objects', 'info', 'insert', 'interpolate', 'isin', 'isna', 'isnull', 'items', 'iteritems', 'iterrows', 'itertuples', 'join', 'keys', 'kurt', 'kurtosis', 'last', 'last_valid_index', 'le', 'loc', 'lookup', 'lt', 'mad', 'mask', 'max', 'mean', 'median', 'melt', 'memory_usage', 'merge', 'min', 'mod', 'mode', 'mul', 'multiplicative_terms', 'multiplicative_terms_lower', 'multiplicative_terms_upper', 'multiply', 'ndim', 'ne', 'nlargest', 'notna', 'notnull', 'nsmallest', 'nunique', 'pad', 'pct_change', 'pipe', 'pivot', 'pivot_table', 'plot', 'pop', 'pow', 'prod', 'product', 'quantile', 'query', 'radd', 'rank', 'rdiv', 'reindex', 'reindex_like', 'rename', 'rename_axis', 'reorder_levels', 'replace', 'resample', 'reset_index', 'rfloordiv', 'rmod', 'rmul', 'rolling', 'round', 'rpow', 'rsub', 'rtruediv', 'sample', 'select_dtypes', 'sem', 'set_axis', 'set_index', 'shape', 'shift', 'size', 'skew', 'slice_shift', 'sort_index', 'sort_values', 'squeeze', 'stack', 'std', 'style', 'sub', 'subtract', 'sum', 'swapaxes', 'swaplevel', 'tail', 'take', 'to_clipboard', 'to_csv', 'to_dict', 'to_excel', 'to_feather', 'to_gbq', 'to_hdf', 'to_html', 'to_json', 'to_latex', 'to_markdown', 'to_numpy', 'to_parquet', 'to_period', 'to_pickle', 'to_records', 'to_sql', 'to_stata', 'to_string', 'to_timestamp', 'to_xarray', 'transform', 'transpose', 'trend', 'trend_lower', 'trend_upper', 'truediv', 'truncate', 'tz_convert', 'tz_localize', 'unstack', 'update', 'value_counts', 'values', 'var', 'weekly', 'weekly_lower', 'weekly_upper', 'where', 'xs', 'yearly', 'yearly_lower', 'yearly_upper', 'yhat', 'yhat_lower', 'yhat_upper']\n"
     ]
    }
   ],
   "source": [
    "print(dir(predictions))"
   ]
  },
  {
   "cell_type": "code",
   "execution_count": 42,
   "metadata": {},
   "outputs": [
    {
     "data": {
      "text/plain": [
       "array([6.48684055e+09, 6.52961537e+09, 6.57239019e+09, ...,\n",
       "       9.10749601e+10, 9.11204896e+10, 9.11660192e+10])"
      ]
     },
     "execution_count": 42,
     "metadata": {},
     "output_type": "execute_result"
    }
   ],
   "source": [
    "fc = preds.trend.values\n",
    "fc"
   ]
  },
  {
   "cell_type": "code",
   "execution_count": 44,
   "metadata": {},
   "outputs": [
    {
     "name": "stdout",
     "output_type": "stream",
     "text": [
      "2955339467.134222\n"
     ]
    }
   ],
   "source": [
    "print(mean_absolute_error(data.y, fc[:2111]))"
   ]
  },
  {
   "cell_type": "code",
   "execution_count": 46,
   "metadata": {},
   "outputs": [
    {
     "data": {
      "image/png": "[encoded data removed]",
      "text/plain": [
       "<Figure size 432x288 with 1 Axes>"
      ]
     },
     "metadata": {
      "needs_background": "light"
     },
     "output_type": "display_data"
    }
   ],
   "source": [
    "plt.plot(preds.ds, preds.trend)\n",
    "plt.show()"
   ]
  },
  {
   "cell_type": "code",
   "execution_count": 56,
   "metadata": {},
   "outputs": [],
   "source": [
    "def predictor(date_pre, period, hist):\n",
    "    date_pre=date_pre\n",
    "    period=period\n",
    "    hist=hist\n",
    "    model = Prophet()\n",
    "    model.fit(data.loc[(data['ds'] > datetime.datetime.strptime('2013-12-30', '%Y-%m-%d')) & (data['ds'] < datetime.datetime.strptime(hist, '%Y-%m-%d'))])\n",
    "    ft = model.make_future_dataframe(periods=(datetime.datetime.strptime(date_pre, '%Y-%m-%d')+relativedelta(months=period)-datetime.datetime.strptime(date_pre, '%Y-%m-%d')).days)\n",
    "    preds = model.predict(ft)\n",
    "    return  pd.DataFrame(preds[['ds','trend']])"
   ]
  },
  {
   "cell_type": "code",
   "execution_count": 73,
   "metadata": {},
   "outputs": [
    {
     "name": "stderr",
     "output_type": "stream",
     "text": [
      "18:46:00 - cmdstanpy - INFO - Chain [1] start processing\n",
      "18:46:00 - cmdstanpy - INFO - Chain [1] done processing\n"
     ]
    }
   ],
   "source": [
    "stable_part = predictor('2019-01-01', 11, '2018-01-01')"
   ]
  },
  {
   "cell_type": "code",
   "execution_count": 74,
   "metadata": {},
   "outputs": [
    {
     "data": {
      "text/html": [
       "<div>\n",
       "<style scoped>\n",
       "    .dataframe tbody tr th:only-of-type {\n",
       "        vertical-align: middle;\n",
       "    }\n",
       "\n",
       "    .dataframe tbody tr th {\n",
       "        vertical-align: top;\n",
       "    }\n",
       "\n",
       "    .dataframe thead th {\n",
       "        text-align: right;\n",
       "    }\n",
       "</style>\n",
       "<table border=\"1\" class=\"dataframe\">\n",
       "  <thead>\n",
       "    <tr style=\"text-align: right;\">\n",
       "      <th></th>\n",
       "      <th>ds</th>\n",
       "      <th>trend</th>\n",
       "    </tr>\n",
       "  </thead>\n",
       "  <tbody>\n",
       "    <tr>\n",
       "      <th>0</th>\n",
       "      <td>2013-12-31</td>\n",
       "      <td>7.294936e+09</td>\n",
       "    </tr>\n",
       "    <tr>\n",
       "      <th>1</th>\n",
       "      <td>2014-01-01</td>\n",
       "      <td>7.332901e+09</td>\n",
       "    </tr>\n",
       "    <tr>\n",
       "      <th>2</th>\n",
       "      <td>2014-01-02</td>\n",
       "      <td>7.370865e+09</td>\n",
       "    </tr>\n",
       "    <tr>\n",
       "      <th>3</th>\n",
       "      <td>2014-01-03</td>\n",
       "      <td>7.408830e+09</td>\n",
       "    </tr>\n",
       "    <tr>\n",
       "      <th>4</th>\n",
       "      <td>2014-01-04</td>\n",
       "      <td>7.446794e+09</td>\n",
       "    </tr>\n",
       "    <tr>\n",
       "      <th>...</th>\n",
       "      <td>...</td>\n",
       "      <td>...</td>\n",
       "    </tr>\n",
       "    <tr>\n",
       "      <th>1791</th>\n",
       "      <td>2018-11-26</td>\n",
       "      <td>5.319321e+10</td>\n",
       "    </tr>\n",
       "    <tr>\n",
       "      <th>1792</th>\n",
       "      <td>2018-11-27</td>\n",
       "      <td>5.322306e+10</td>\n",
       "    </tr>\n",
       "    <tr>\n",
       "      <th>1793</th>\n",
       "      <td>2018-11-28</td>\n",
       "      <td>5.325291e+10</td>\n",
       "    </tr>\n",
       "    <tr>\n",
       "      <th>1794</th>\n",
       "      <td>2018-11-29</td>\n",
       "      <td>5.328277e+10</td>\n",
       "    </tr>\n",
       "    <tr>\n",
       "      <th>1795</th>\n",
       "      <td>2018-11-30</td>\n",
       "      <td>5.331262e+10</td>\n",
       "    </tr>\n",
       "  </tbody>\n",
       "</table>\n",
       "<p>1796 rows × 2 columns</p>\n",
       "</div>"
      ],
      "text/plain": [
       "             ds         trend\n",
       "0    2013-12-31  7.294936e+09\n",
       "1    2014-01-01  7.332901e+09\n",
       "2    2014-01-02  7.370865e+09\n",
       "3    2014-01-03  7.408830e+09\n",
       "4    2014-01-04  7.446794e+09\n",
       "...         ...           ...\n",
       "1791 2018-11-26  5.319321e+10\n",
       "1792 2018-11-27  5.322306e+10\n",
       "1793 2018-11-28  5.325291e+10\n",
       "1794 2018-11-29  5.328277e+10\n",
       "1795 2018-11-30  5.331262e+10\n",
       "\n",
       "[1796 rows x 2 columns]"
      ]
     },
     "execution_count": 74,
     "metadata": {},
     "output_type": "execute_result"
    }
   ],
   "source": [
    "stable_part"
   ]
  },
  {
   "cell_type": "code",
   "execution_count": 75,
   "metadata": {},
   "outputs": [
    {
     "data": {
      "image/png": "[encoded data removed]",
      "text/plain": [
       "<Figure size 432x288 with 1 Axes>"
      ]
     },
     "metadata": {
      "needs_background": "light"
     },
     "output_type": "display_data"
    }
   ],
   "source": [
    "plt.plot(stable_part.ds, stable_part.trend)\n",
    "plt.show()"
   ]
  },
  {
   "cell_type": "code",
   "execution_count": null,
   "metadata": {},
   "outputs": [],
   "source": []
  }
 ],
 "metadata": {
  "kernelspec": {
   "display_name": "Python 3",
   "language": "python",
   "name": "python3"
  },
  "language_info": {
   "codemirror_mode": {
    "name": "ipython",
    "version": 3
   },
   "file_extension": ".py",
   "mimetype": "text/x-python",
   "name": "python",
   "nbconvert_exporter": "python",
   "pygments_lexer": "ipython3",
   "version": "3.8.5"
  }
 },
 "nbformat": 4,
 "nbformat_minor": 4
}
